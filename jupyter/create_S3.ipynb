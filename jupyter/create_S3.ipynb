{
 "cells": [
  {
   "cell_type": "code",
   "execution_count": 2,
   "metadata": {},
   "outputs": [
    {
     "data": {
      "text/plain": [
       "{'ResponseMetadata': {'RequestId': '67YAK8DQE7GVPQSB',\n",
       "  'HostId': 'T3OxU5HEiuNz5OfC3U9BDQf+pLHxbut5NEPCrFN45tm0CksIVE9eC56CAXKMYWi2ILPgeb4H3AI=',\n",
       "  'HTTPStatusCode': 200,\n",
       "  'HTTPHeaders': {'x-amz-id-2': 'T3OxU5HEiuNz5OfC3U9BDQf+pLHxbut5NEPCrFN45tm0CksIVE9eC56CAXKMYWi2ILPgeb4H3AI=',\n",
       "   'x-amz-request-id': '67YAK8DQE7GVPQSB',\n",
       "   'date': 'Sat, 23 Nov 2024 18:21:29 GMT',\n",
       "   'location': 'http://mlops-dvc-hudsonma.s3.amazonaws.com/',\n",
       "   'content-length': '0',\n",
       "   'server': 'AmazonS3'},\n",
       "  'RetryAttempts': 0},\n",
       " 'Location': 'http://mlops-dvc-hudsonma.s3.amazonaws.com/'}"
      ]
     },
     "execution_count": 2,
     "metadata": {},
     "output_type": "execute_result"
    }
   ],
   "source": [
    "import boto3\n",
    "import os\n",
    "from dotenv import load_dotenv\n",
    "\n",
    "load_dotenv()\n",
    "\n",
    "# Provide bucket name: log-bucket-YOUR_INSPER_USERNAME\n",
    "bucket_name = \"mlops-dvc-hudsonma\"\n",
    "\n",
    "s3 = boto3.client(\n",
    "    \"s3\",\n",
    "    aws_access_key_id=os.getenv(\"AWS_ACCESS_KEY_ID\"),\n",
    "    aws_secret_access_key=os.getenv(\"AWS_SECRET_ACCESS_KEY\"),\n",
    "    region_name=os.getenv(\"AWS_REGION\"),\n",
    ")\n",
    "\n",
    "s3.create_bucket(\n",
    "    Bucket=bucket_name,\n",
    "    CreateBucketConfiguration={\"LocationConstraint\": os.getenv(\"AWS_REGION\")},\n",
    ")"
   ]
  },
  {
   "cell_type": "code",
   "execution_count": 4,
   "metadata": {},
   "outputs": [
    {
     "name": "stdout",
     "output_type": "stream",
     "text": [
      "Objetos no bucket:\n",
      "- files/md5/49/6aee8fbfdfa1dfb6daa9dbca5d1a01\n"
     ]
    }
   ],
   "source": [
    "# Read content of the bucket\n",
    "\n",
    "import boto3\n",
    "import os\n",
    "from dotenv import load_dotenv\n",
    "\n",
    "# Carregar as variáveis de ambiente\n",
    "load_dotenv()\n",
    "\n",
    "# Nome do bucket\n",
    "bucket_name = \"mlops-dvc-hudsonma\"\n",
    "\n",
    "# Configurar o cliente S3\n",
    "s3 = boto3.client(\n",
    "    \"s3\",\n",
    "    aws_access_key_id=os.getenv(\"AWS_ACCESS_KEY_ID\"),\n",
    "    aws_secret_access_key=os.getenv(\"AWS_SECRET_ACCESS_KEY\"),\n",
    "    region_name=os.getenv(\"AWS_REGION\"),\n",
    ")\n",
    "\n",
    "# Listar objetos no bucket\n",
    "response = s3.list_objects_v2(Bucket=bucket_name)\n",
    "\n",
    "# Verificar se há objetos no bucket\n",
    "if \"Contents\" in response:\n",
    "    print(\"Objetos no bucket:\")\n",
    "    for obj in response[\"Contents\"]:\n",
    "        print(f\"- {obj['Key']}\")\n",
    "else:\n",
    "    print(f\"O bucket '{bucket_name}' está vazio.\")\n"
   ]
  },
  {
   "cell_type": "code",
   "execution_count": null,
   "metadata": {},
   "outputs": [],
   "source": []
  }
 ],
 "metadata": {
  "kernelspec": {
   "display_name": "env",
   "language": "python",
   "name": "python3"
  },
  "language_info": {
   "codemirror_mode": {
    "name": "ipython",
    "version": 3
   },
   "file_extension": ".py",
   "mimetype": "text/x-python",
   "name": "python",
   "nbconvert_exporter": "python",
   "pygments_lexer": "ipython3",
   "version": "3.10.6"
  }
 },
 "nbformat": 4,
 "nbformat_minor": 2
}
